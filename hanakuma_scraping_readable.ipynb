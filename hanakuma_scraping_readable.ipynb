{
 "cells": [
  {
   "cell_type": "code",
   "execution_count": 3,
   "id": "452bc169-6e6c-4065-9d5d-151dfaa0e1bf",
   "metadata": {},
   "outputs": [
    {
     "name": "stdout",
     "output_type": "stream",
     "text": [
      "testing\n"
     ]
    }
   ],
   "source": [
    "\"\"\"\n",
    "this is a copy of the jupyter notebook used to scrape the playlist (api key removed + edited the output streams to be not as painful to view on GitHub)\n",
    "\"\"\""
   ]
  },
  {
   "cell_type": "code",
   "execution_count": 5,
   "id": "76dd8164-1d64-4613-8774-c2019e3e266b",
   "metadata": {},
   "outputs": [],
   "source": [
    "# importing tool for getting video data\n",
    "from pyyoutube import Api\n",
    "\n",
    "# put api key here\n",
    "api_key_storage = \"\"\n",
    "\n",
    "api = Api(api_key= api_key_storage)"
   ]
  },
  {
   "cell_type": "code",
   "execution_count": 19,
   "id": "cbf31a46-b348-4917-936f-111d3f27d9f9",
   "metadata": {},
   "outputs": [],
   "source": [
    "# getting all of the ids as \"PlaylistItem\"s\n",
    "playlist_item_by_playlist = api.get_playlist_items(playlist_id=\"PLITzc0thXnF-hkg12CGqhKrfaof7l_la7\", count=None)"
   ]
  },
  {
   "cell_type": "code",
   "execution_count": 8,
   "id": "acd1250a-7288-488c-ae6e-f80b083c4079",
   "metadata": {},
   "outputs": [],
   "source": [
    "# other tool for getting video data\n",
    "from py_youtube import Data"
   ]
  },
  {
   "cell_type": "code",
   "execution_count": 9,
   "id": "d291aacc-706a-4087-8dbb-363cc23e9a69",
   "metadata": {},
   "outputs": [
    {
     "name": "stdout",
     "output_type": "stream",
     "text": [
      "{'id': 'HhHzCfrqsoE', 'title': 'How To Create MongoDB Database  Url', 'thumbnails': 'https://i.ytimg.com/vi/HhHzCfrqsoE/hqdefault.jpg?sqp=-oaymwEbCKgBEF5IVfKriqkDDggBFQAAiEIYAXABwAEG\\\\u0026rs=AOn4CLCNF-0bGzYnBRwWNKCFfkLjjt9cGA', 'views': '17009', 'likes': None, 'dislikes': None, 'publishdate': '2021-08-04', 'category': 'Howto \\\\u0026 Style', 'channel_name': 'Coder Vai', 'subscriber': '6.66K', 'keywords': 'video, sharing, camera phone, video phone, free, upload'}\n"
     ]
    }
   ],
   "source": [
    "# testing other tool\n",
    "data = Data(\"https://youtu.be/HhHzCfrqsoE\").data()\n",
    "print(data[id])"
   ]
  },
  {
   "cell_type": "code",
   "execution_count": 31,
   "id": "0298bc0b-697a-4812-9876-75aac66de108",
   "metadata": {},
   "outputs": [
    {
     "name": "stdout",
     "output_type": "stream",
     "text": [
      "['_AMnMpBOcyY', '...[more ids]...', 'JRf5VEh_edY']\n"
     ]
    }
   ],
   "source": [
    "# making list of video ids to put into other tool\n",
    "list_of_video_ids = []\n",
    "for playlist_item in playlist_item_by_playlist.items:\n",
    "    list_of_video_ids.append(playlist_item.snippet.resourceId.videoId)"
   ]
  },
  {
   "cell_type": "code",
   "execution_count": 32,
   "id": "32a2fef4-1f1b-49bf-b168-8c952b4b6f72",
   "metadata": {},
   "outputs": [
    {
     "name": "stdout",
     "output_type": "stream",
     "text": [
      "269\n"
     ]
    }
   ],
   "source": [
    "# printing how long it is to make sure I've got all of the videos\n",
    "print(len(list_of_video_ids))"
   ]
  },
  {
   "cell_type": "code",
   "execution_count": 35,
   "id": "e8ffaba7-1b6e-4a04-9fdb-ac82d17f7a63",
   "metadata": {},
   "outputs": [
    {
     "name": "stdout",
     "output_type": "stream",
     "text": [
      "_AMnMpBOcyY\n",
      "8rVh4rQg-JI\n",
      "...[more ids]...",
      "[{'id': '_AMnMpBOcyY', 'title': '【花隈千冬】CeVIO AIトークボイス サンプル音声（開発中音源）', 'thumbnails': 'https://i.ytimg.com/vi/_AMnMpBOcyY/hqdefault.jpg?sqp=-oaymwEbCKgBEF5IVfKriqkDDggBFQAAiEIYAXABwAEG\\\\u0026rs=AOn4CLAaATt7PV11vx81p8JHZeMJPFvkLA', 'views': '22145', 'likes': None, 'dislikes': None, 'publishdate': '2022-06-19', 'category': 'Entertainment', 'channel_name': 'TOKYO6 ENTERTAINMENT', 'subscriber': '4.18K', 'keywords': '花隈千冬, CeVIO_AI, 奥野香耶'}, {'id': '8rVh4rQg-JI', 'title': '【古川本舗】あいにいく【花隈千冬 公式デモソング】', 'thumbnails': 'https://i.ytimg.com/vi/8rVh4rQg-JI/hqdefault.jpg?sqp=-oaymwEbCKgBEF5IVfKriqkDDggBFQAAiEIYAXABwAEG\\\\u0026rs=AOn4CLAWdlLxA56cHfYzbMs6Y5eoYkKzEg', 'views': '35722', 'likes': None, 'dislikes': None, 'publishdate': '2022-10-19', 'category': 'Entertainment', 'channel_name': 'TOKYO6 ENTERTAINMENT', 'subscriber': '4.18K', 'keywords': 'video, sharing, camera phone, video phone, free, upload'}" , "...[more dictionary entries]..."
     ]
    }
   ],
   "source": [
    "# getting the rest of the video data from the id\n",
    "dictionary_list = []\n",
    "for id in list_of_video_ids:\n",
    "    dictionary_list.append(Data(f'https://youtu.be/{id}').data())\n",
    "    print(id)\n",
    "\n",
    "# checking what is in the data\n",
    "print(dictionary_list)"
   ]
  },
  {
   "cell_type": "code",
   "execution_count": 37,
   "id": "4df056c0-86c5-46bf-a603-5e9198de3ae7",
   "metadata": {},
   "outputs": [
    {
     "name": "stdout",
     "output_type": "stream",
     "text": [
      "269\n"
     ]
    }
   ],
   "source": [
    "# making sure it's still the same length\n",
    "print(len(dictionary_list))"
   ]
  },
  {
   "cell_type": "code",
   "execution_count": 38,
   "id": "4bb7147c-5802-4952-a4d8-633c4b6ebaf7",
   "metadata": {},
   "outputs": [
    {
     "name": "stdout",
     "output_type": "stream",
     "text": [
      "[{'id': '_AMnMpBOcyY', 'title': '【花隈千冬】CeVIO AIトークボイス サンプル音声（開発中音源）', 'thumbnails': 'https://i.ytimg.com/vi/_AMnMpBOcyY/hqdefault.jpg?sqp=-oaymwEbCKgBEF5IVfKriqkDDggBFQAAiEIYAXABwAEG\\\\u0026rs=AOn4CLAaATt7PV11vx81p8JHZeMJPFvkLA', 'views': '22145', 'likes': None, 'dislikes': None, 'publishdate': '2022-06-19', 'category': 'Entertainment', 'channel_name': 'TOKYO6 ENTERTAINMENT', 'subscriber': '4.18K', 'keywords': '花隈千冬, CeVIO_AI, 奥野香耶'}, iber': '984', 'keywords': '花隈千冬'}, [... more dictionary entries ...]"
     ]
    }
   ],
   "source": [
    "# cleaning the data for videos which I can't see the data of\n",
    "cleaned_dictionary_list = []\n",
    "for dictionary in dictionary_list:\n",
    "    if (dictionary['id'] != None):\n",
    "        cleaned_dictionary_list.append(dictionary)\n",
    "print(cleaned_dictionary_list)"
   ]
  },
  {
   "cell_type": "code",
   "execution_count": 39,
   "id": "09a543a1-4724-43b5-bbaf-efb50b4d9eba",
   "metadata": {},
   "outputs": [
    {
     "name": "stdout",
     "output_type": "stream",
     "text": [
      "264\n"
     ]
    }
   ],
   "source": [
    "# seeing how many videos that was (the new length)\n",
    "print(len(cleaned_dictionary_list))"
   ]
  },
  {
   "cell_type": "code",
   "execution_count": 68,
   "id": "77e94531-71c0-4f93-8d81-3139584288e8",
   "metadata": {},
   "outputs": [],
   "source": [
    "# writing the cleaned dictionary to a .py file \n",
    "f = open(\"hanakuma_txt_files/list_of_dictionaries.txt\", \"w\")\n",
    "\n",
    "f.write(str(cleaned_dictionary_list))\n",
    "f.close()"
   ]
  },
  {
   "cell_type": "code",
   "execution_count": 43,
   "id": "5ac72856-7762-45a5-8364-0be01d72b25d",
   "metadata": {},
   "outputs": [],
   "source": [
    "from colorthief import ColorThief"
   ]
  },
  {
   "cell_type": "code",
   "execution_count": 45,
   "id": "09a8e6ad-ca1e-4392-ac83-76e4c54d81a7",
   "metadata": {},
   "outputs": [],
   "source": [
    "import urllib.request"
   ]
  },
  {
   "cell_type": "code",
   "execution_count": 49,
   "id": "3d03f400-4fc6-43f4-b939-68168e7563e3",
   "metadata": {},
   "outputs": [
    {
     "name": "stdout",
     "output_type": "stream",
     "text": [
      "(242, 224, 210)\n"
     ]
    }
   ],
   "source": [
    "# testing color thief\n",
    "urllib.request.urlretrieve(\"https://i.ytimg.com/vi/uPNTekKrgcA/hqdefault.jpg?sqp=-oaymwE1CKgBEF5IVfKriqkDKAgBFQAAiEIYAXABwAEG8AEB-AH-CYAC0AWKAgwIABABGGUgZShlMA8=\\\\u0026rs=AOn4CLBBQ8-Oq-SVOSs0eQ3FNnmCj_c_aw\", \"hanakuma_images/hanakuma_images_01.jpg\")\n",
    "\n",
    "color_thief = ColorThief(\"hanakuma_images/hanakuma_images_01.jpg\")\n",
    "# get the dominant color\n",
    "dominant_color = color_thief.get_color(quality=1)\n",
    "print(dominant_color)"
   ]
  },
  {
   "cell_type": "code",
   "execution_count": 58,
   "id": "ae2d8ba9-7bb2-4327-8e9e-829e6f47caca",
   "metadata": {},
   "outputs": [
    {
     "name": "stdout",
     "output_type": "stream",
     "text": [
      "Closest colour name: gray\n"
     ]
    }
   ],
   "source": [
    "# taken from https://stackoverflow.com/questions/9694165/convert-rgb-color-to-english-color-name-like-green-with-python\n",
    "# used to get color names\n",
    "\n",
    "import webcolors\n",
    "\n",
    "color_system = webcolors.CSS21_HEX_TO_NAMES\n",
    "\n",
    "\"\"\"\n",
    "other options:\n",
    "webcolors.HTML4_HEX_TO_NAMES\n",
    "webcolors.CSS2_HEX_TO_NAMES\n",
    "webcolors.CSS21_HEX_TO_NAMES\n",
    "webcolors.CSS3_HEX_TO_NAMES\n",
    "\"\"\"\n",
    "\n",
    "def closest_colour(requested_colour):\n",
    "    min_colours = {}\n",
    "    for key, name in color_system.items():\n",
    "        r_c, g_c, b_c = webcolors.hex_to_rgb(key)\n",
    "        rd = (r_c - requested_colour[0]) ** 2\n",
    "        gd = (g_c - requested_colour[1]) ** 2\n",
    "        bd = (b_c - requested_colour[2]) ** 2\n",
    "        min_colours[(rd + gd + bd)] = name\n",
    "    return min_colours[min(min_colours.keys())]\n",
    "\n",
    "def get_colour_name(requested_colour):\n",
    "    closest_name = closest_colour(requested_colour)\n",
    "    return closest_name\n",
    "\n",
    "requested_colour = (119, 172, 152)\n",
    "closest_name = get_colour_name(requested_colour)\n",
    "\n",
    "print(\"Closest colour name:\", closest_name)"
   ]
  },
  {
   "cell_type": "code",
   "execution_count": 41,
   "id": "af38ef77-1bc6-46e5-8981-02f1aa724195",
   "metadata": {},
   "outputs": [],
   "source": [
    "# for making a dataframe\n",
    "import pandas as pd"
   ]
  },
  {
   "cell_type": "code",
   "execution_count": 42,
   "id": "9b3ec931-b71b-49f7-a4b3-7d08afccd7bc",
   "metadata": {},
   "outputs": [
    {
     "name": "stdout",
     "output_type": "stream",
     "text": [
      "              id                                       title  \\\n",
      "0    _AMnMpBOcyY          【花隈千冬】CeVIO AIトークボイス サンプル音声（開発中音源）   \n",
      "1    8rVh4rQg-JI                   【古川本舗】あいにいく【花隈千冬 公式デモソング】   \n",
      "2    EtEqGWNJ6zM       小さな恋 (sung by Chifuyu Hanakuma, 花隈千冬)   \n",
      "3    FzgQyJ_Fe0g                         翠色のヒストリア feat. 花隈千冬   \n",
      "4    GegE-pknwyM                     【花隈千冬】代赭色の曇り空から【オリジナル曲】   \n",
      "..           ...                                         ...   \n",
      "259  Nmik0QjWpPc                                  メグル / 花隈千冬   \n",
      "260  uondvWZ6_rw  雨粒のエピツク  【花隈千冬】【オリジナル/MV】【Melodic Dubstep】   \n",
      "261  torYoTOLvEE                     【花隈千冬】Graffiti【Kumaika】   \n",
      "262  XuRGdge8fvE               【花隈千冬】滲ム雨【SynthesizerVオリジナル曲】   \n",
      "263  BOHdQx8wQUQ                       joRi ワタシノコイ feat.花隈千冬   \n",
      "\n",
      "                                            thumbnails  views likes dislikes  \\\n",
      "0    https://i.ytimg.com/vi/_AMnMpBOcyY/hqdefault.j...  22145  None     None   \n",
      "1    https://i.ytimg.com/vi/8rVh4rQg-JI/hqdefault.j...  35722  None     None   \n",
      "2    https://i.ytimg.com/vi/EtEqGWNJ6zM/hqdefault.j...    162  None     None   \n",
      "3    https://i.ytimg.com/vi/FzgQyJ_Fe0g/hqdefault.j...   1093  None     None   \n",
      "4    https://i.ytimg.com/vi/GegE-pknwyM/hqdefault.j...    719  None     None   \n",
      "..                                                 ...    ...   ...      ...   \n",
      "259  https://i.ytimg.com/vi/Nmik0QjWpPc/hqdefault.j...    693  None     None   \n",
      "260  https://i.ytimg.com/vi/uondvWZ6_rw/hqdefault.j...    684  None     None   \n",
      "261  https://i.ytimg.com/vi/torYoTOLvEE/hqdefault.j...    132  None     None   \n",
      "262  https://i.ytimg.com/vi/XuRGdge8fvE/hqdefault.j...    107  None     None   \n",
      "263  https://i.ytimg.com/vi/BOHdQx8wQUQ/hqdefault.j...     45  None     None   \n",
      "\n",
      "    publishdate             category          channel_name subscriber  \\\n",
      "0    2022-06-19        Entertainment  TOKYO6 ENTERTAINMENT      4.18K   \n",
      "1    2022-10-19        Entertainment  TOKYO6 ENTERTAINMENT      4.18K   \n",
      "2    2022-10-19                Music                Rioリョウ         53   \n",
      "3    2022-10-19                Music  Yori / Sodalite Lab.        449   \n",
      "4    2022-10-19                Music        野良犬P  NorainuP        710   \n",
      "..          ...                  ...                   ...        ...   \n",
      "259  2023-06-17                Music    ryo-shun / schilf.        530   \n",
      "260  2023-06-17                Music       Kininaru Omocha        900   \n",
      "261  2023-06-17                Music                  くまいか         82   \n",
      "262  2023-06-17  People \\u0026 Blogs                  None         18   \n",
      "263  2023-06-18                Music                  joRi         16   \n",
      "\n",
      "                                              keywords  \n",
      "0                                 花隈千冬, CeVIO_AI, 奥野香耶  \n",
      "1    video, sharing, camera phone, video phone, fre...  \n",
      "2    花隈千冬, Tokyo6, SynthesizerV, Hanakuma, Chifuyu,...  \n",
      "3    花隈千冬, 小春六花, 夏色花梨, TOKYO6, 花隈千冬オリジナル曲, Yori, So...  \n",
      "4    Synthesizer V, SynthV, VOCALOID, 花隈千冬, Hanakum...  \n",
      "..                                                 ...  \n",
      "259  vocaloid, rock, ryo-shun, vocarock, ボーカロイド, 邦ロ...  \n",
      "260  ボカロ, Vocaloid, CeVio, UTAU, NEUTRINO, Synthsiz...  \n",
      "261                                 花隈千冬, SynthesizerV  \n",
      "262  video, sharing, camera phone, video phone, fre...  \n",
      "263                                    DTM, ボカロ, 流行りの歌  \n",
      "\n",
      "[264 rows x 11 columns]\n"
     ]
    }
   ],
   "source": [
    "# making a pandas dataframe\n",
    "df = pd.DataFrame.from_dict(cleaned_dictionary_list) \n",
    "print(df)"
   ]
  },
  {
   "cell_type": "code",
   "execution_count": 59,
   "id": "530988b3-84ae-433f-b3e4-a5ff3a7cab70",
   "metadata": {},
   "outputs": [],
   "source": [
    "# writing the dataframe to a .csv file\n",
    "df.to_csv(\"hanakuma_sheets/nothing_added.csv\", sep=',', encoding='utf-8')"
   ]
  },
  {
   "cell_type": "code",
   "execution_count": 51,
   "id": "b242fffe-a635-4d48-9ef1-78083d97ab7f",
   "metadata": {},
   "outputs": [],
   "source": [
    "# scrapes all of the thumbnail images\n",
    "for index, row in df.iterrows():\n",
    "    urllib.request.urlretrieve(row[\"thumbnails\"], f'hanakuma_images/hanakuma_images_{index}.jpg')"
   ]
  },
  {
   "cell_type": "markdown",
   "id": "3863ac74-cf20-4239-9160-c6e37f7ddf23",
   "metadata": {},
   "source": [
    "Need to get the black bars out of the images"
   ]
  },
  {
   "cell_type": "code",
   "execution_count": 2,
   "id": "ae457d4b-7b40-4e18-be45-92be8033ff2f",
   "metadata": {},
   "outputs": [],
   "source": [
    "# PIL is the pillow image editing library\n",
    "from PIL import Image\n",
    "import numpy as np"
   ]
  },
  {
   "cell_type": "code",
   "execution_count": 3,
   "id": "f75049a0-e3d8-4165-aae7-1cde8833cba6",
   "metadata": {},
   "outputs": [],
   "source": [
    "# checks if image is oriented horizontally or vertically by checking which pixels are black (not 100% accurate but accurate enough)\n",
    "def check_if_horizontal(image):\n",
    "    arr = np.array(image)\n",
    "    if ([0,0,0] in arr[0][240]):\n",
    "        if ([0,0,0] in arr[320][240]):\n",
    "            return True\n",
    "    return False"
   ]
  },
  {
   "cell_type": "code",
   "execution_count": 4,
   "id": "661e9109-5223-40c8-9247-90fd14607c84",
   "metadata": {},
   "outputs": [],
   "source": [
    "# will be 264 in final\n",
    "short_or_vid = []\n",
    "\n",
    "# appends \"short\" or \"video\" to a list + crops images appropriately and saves to new folder\n",
    "for index in range(264):\n",
    "    this_image = Image.open(f'hanakuma_images/hanakuma_images_{index}.jpg')\n",
    "    if check_if_horizontal(this_image):\n",
    "        this_image.crop((0, 45, 480, 315)).save(f'hanakuma_images_altered/hanakuma_images_{index}.jpg')\n",
    "        short_or_vid.append(\"video\")\n",
    "    else:\n",
    "        this_image.crop((140, 0, 340, 360)).save(f'hanakuma_images_altered/hanakuma_images_{index}.jpg')\n",
    "        short_or_vid.append(\"short\")"
   ]
  },
  {
   "cell_type": "markdown",
   "id": "127b04e1",
   "metadata": {},
   "source": [
    "The following cells are taken from a seperate notebook"
   ]
  },
  {
   "cell_type": "code",
   "execution_count": null,
   "id": "79ee3d4a",
   "metadata": {},
   "outputs": [],
   "source": [
    "# adds column to dataframe\n",
    "df['short_or_video'] = short_or_vid\n",
    "\n",
    "df.to_csv(\"hanakuma_sheets/nothing_added.csv\", sep=',', encoding='utf-8')"
   ]
  },
  {
   "cell_type": "code",
   "execution_count": null,
   "id": "555b20af",
   "metadata": {},
   "outputs": [],
   "source": [
    "# makes a list of colors\n",
    "\n",
    "color_list = []\n",
    "#264\n",
    "for index in range(264):\n",
    "    color_thief = ColorThief(f'hanakuma_images/hanakuma_images_{index}.jpg')\n",
    "    palette = color_thief.get_palette(color_count=5)\n",
    "    print(f'hanakuma_images_{index}.jpg')\n",
    "    pal_list = []\n",
    "    for color in palette:\n",
    "        #print(get_colour_name(color))\n",
    "        pal_list.append(get_colour_name(color))\n",
    "    color_list.append(pal_list)\n",
    "print(color_list)\n",
    "\n",
    "df['thumbnail_colors'] = color_list"
   ]
  },
  {
   "cell_type": "code",
   "execution_count": null,
   "id": "29b40ed8",
   "metadata": {},
   "outputs": [],
   "source": [
    "# yet another tool, going to be used for finding video lengths\n",
    "from pytube import YouTube "
   ]
  },
  {
   "cell_type": "code",
   "execution_count": null,
   "id": "560c1798",
   "metadata": {},
   "outputs": [],
   "source": [
    "video_lengths = []\n",
    "\n",
    "for i in range(264):\n",
    "    video_lengths.append(YouTube(f'https://www.youtube.com/watch?v={df[\"id\"][i]}').length)\n",
    "    print(f'https://www.youtube.com/watch?v={df[\"id\"][i]} num: ',i,\" length:\",video_lengths[i])\n",
    "\n",
    "print(video_lengths)\n",
    "print(len(video_lengths))\n",
    "\n",
    "df['duration'] = video_lengths"
   ]
  },
  {
   "cell_type": "code",
   "execution_count": null,
   "id": "f9066569",
   "metadata": {},
   "outputs": [],
   "source": [
    "\n",
    "# drops empty columns + links to thumbnails from csv\n",
    "df = df.drop(columns=['likes', 'dislikes'])\n",
    "df = df.drop(columns=['thumbnails'])"
   ]
  },
  {
   "cell_type": "code",
   "execution_count": null,
   "id": "2be502ab",
   "metadata": {},
   "outputs": [],
   "source": [
    "# makes the subscriber counts integers\n",
    "subscriber_count = []\n",
    "\n",
    "for index,row in df.iterrows():\n",
    "    value = df['subscriber'][index]\n",
    "    if (str(value)[-1] == 'K'):\n",
    "        subscriber_count.append(int(round(float(value[:-1])*1000,0)))\n",
    "    else:\n",
    "        try:\n",
    "            subscriber_count.append(int(value))\n",
    "        except ValueError:\n",
    "            subscriber_count.append(None)\n",
    "\n",
    "df['subscriber'] = subscriber_count"
   ]
  },
  {
   "cell_type": "code",
   "execution_count": null,
   "id": "ef06a38f",
   "metadata": {},
   "outputs": [],
   "source": [
    "# writes to final csv\n",
    "df.to_csv(\"hanakuma_sheets/duration_and_colors.csv\", sep=',', encoding='utf-8')"
   ]
  }
 ],
 "metadata": {
  "kernelspec": {
   "display_name": "Python 3 (ipykernel)",
   "language": "python",
   "name": "python3"
  },
  "language_info": {
   "codemirror_mode": {
    "name": "ipython",
    "version": 3
   },
   "file_extension": ".py",
   "mimetype": "text/x-python",
   "name": "python",
   "nbconvert_exporter": "python",
   "pygments_lexer": "ipython3",
   "version": "3.10.12"
  }
 },
 "nbformat": 4,
 "nbformat_minor": 5
}
